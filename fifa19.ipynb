{
 "cells": [
  {
   "cell_type": "code",
   "execution_count": 1,
   "id": "regulation-potential",
   "metadata": {},
   "outputs": [],
   "source": [
    "import pandas as pd\n",
    "import matplotlib.pyplot as plt\n",
    "from collections import Counter"
   ]
  },
  {
   "cell_type": "markdown",
   "id": "useful-animation",
   "metadata": {},
   "source": [
    "### Import Data Set"
   ]
  },
  {
   "cell_type": "code",
   "execution_count": 2,
   "id": "pointed-wildlife",
   "metadata": {},
   "outputs": [],
   "source": [
    "df = pd.read_csv ('data.csv')"
   ]
  },
  {
   "cell_type": "markdown",
   "id": "critical-springfield",
   "metadata": {},
   "source": [
    "### Bar Chart of Players by Nationality (Top 10)"
   ]
  },
  {
   "cell_type": "code",
   "execution_count": 4,
   "id": "boxed-audience",
   "metadata": {},
   "outputs": [],
   "source": [
    "plt.style.use('ggplot')\n",
    "\n",
    "nations = df['Nationality']\n",
    "\n",
    "nation_counter = Counter()\n",
    "\n",
    "for nation in nations:\n",
    "    nation_counter.update(nation.split('\\n'))\n",
    "\n",
    "nations = []\n",
    "frequency = []\n",
    "\n",
    "for nation in nation_counter.most_common(10):\n",
    "    nations.append(nation[0])\n",
    "    frequency.append(nation[1])\n",
    "    \n",
    "# plt.barh(nations, frequency)\n",
    "# plt.title('Top 10 Countries with Most Players in FIFA 19')\n",
    "# plt.show()"
   ]
  },
  {
   "cell_type": "markdown",
   "id": "labeled-springfield",
   "metadata": {},
   "source": [
    "### Average Player Stats on Man City"
   ]
  },
  {
   "cell_type": "code",
   "execution_count": 5,
   "id": "athletic-marketing",
   "metadata": {},
   "outputs": [],
   "source": [
    "# Filter Man City players who are not GK\n",
    "club = \"Manchester City\"\n",
    "clubFilt = (df['Club'] == club) & (df['Position'] != 'GK')\n",
    "players = df.loc[clubFilt]\n",
    "# column range 54:-6\n",
    "playerStats = players[players.columns[54:-6]]"
   ]
  },
  {
   "cell_type": "code",
   "execution_count": 6,
   "id": "packed-lexington",
   "metadata": {},
   "outputs": [],
   "source": [
    "combinedAvgStats = pd.Series(dtype='float', index=playerStats.columns)\n",
    "\n",
    "for stat in playerStats:\n",
    "    statAvg = playerStats[stat].mean()\n",
    "    combinedAvgStats[stat] = round(statAvg, 2)\n",
    "\n",
    "# combinedAvgStats"
   ]
  },
  {
   "cell_type": "code",
   "execution_count": 7,
   "id": "dedicated-hunger",
   "metadata": {},
   "outputs": [],
   "source": [
    "statStd = pd.Series(dtype='float', index=playerStats.columns)\n",
    "\n",
    "for stat in playerStats:\n",
    "    sd = playerStats[stat].std()\n",
    "    statStd[stat] = round(sd, 2)\n",
    "# statStd"
   ]
  },
  {
   "cell_type": "markdown",
   "id": "naughty-parent",
   "metadata": {},
   "source": [
    "### Difference in KDB's Stats from the Average Stats"
   ]
  },
  {
   "cell_type": "code",
   "execution_count": 8,
   "id": "aerial-magnet",
   "metadata": {},
   "outputs": [],
   "source": [
    "# statDiff = pd.Series(dtype='float', index = playerStats.columns)\n",
    "# player = playerStats.loc[4]\n",
    "\n",
    "# for stat in combinedAvgStats.index:\n",
    "#     diff = abs(combinedAvgStats[stat] - player[stat])\n",
    "#     statDiff[stat] = diff\n",
    "# statDiff"
   ]
  },
  {
   "cell_type": "markdown",
   "id": "smooth-navigation",
   "metadata": {},
   "source": [
    "### Player on Man City with Least Differences from Average Stats"
   ]
  },
  {
   "cell_type": "code",
   "execution_count": 9,
   "id": "faced-plant",
   "metadata": {},
   "outputs": [],
   "source": [
    "# players.loc[playerStats.index[0]] // Reverse lookup player"
   ]
  },
  {
   "cell_type": "code",
   "execution_count": 10,
   "id": "concrete-ballet",
   "metadata": {},
   "outputs": [],
   "source": [
    "playerDiffs = pd.Series(dtype='float', index=players.index, data=0)"
   ]
  },
  {
   "cell_type": "code",
   "execution_count": 11,
   "id": "verified-sapphire",
   "metadata": {},
   "outputs": [],
   "source": [
    "# # for player in playerStats\n",
    "# temp = playerStats.iloc[0:2]\n",
    "for player in playerStats.index:\n",
    "    diffSum = 0\n",
    "    for stat in playerStats:\n",
    "        diffSum += abs(combinedAvgStats[stat] - playerStats.loc[player, stat])\n",
    "    playerDiffs[player] = diffSum\n",
    "# playerDiffs"
   ]
  },
  {
   "cell_type": "code",
   "execution_count": 12,
   "id": "worst-angola",
   "metadata": {},
   "outputs": [
    {
     "data": {
      "text/plain": [
       "Unnamed: 0                                                  4652\n",
       "ID                                                        227813\n",
       "Name                                                O. Zinchenko\n",
       "Age                                                           21\n",
       "Photo             https://cdn.sofifa.org/players/4/19/227813.png\n",
       "                                       ...                      \n",
       "GKHandling                                                  11.0\n",
       "GKKicking                                                   13.0\n",
       "GKPositioning                                               11.0\n",
       "GKReflexes                                                  11.0\n",
       "Release Clause                                             €6.8M\n",
       "Name: 4652, Length: 89, dtype: object"
      ]
     },
     "execution_count": 12,
     "metadata": {},
     "output_type": "execute_result"
    }
   ],
   "source": [
    "# playerDiffs[playerDiffs == playerDiffs.min()].index[0]\n",
    "players.loc[playerDiffs[playerDiffs == playerDiffs.min()].index[0]]"
   ]
  }
 ],
 "metadata": {
  "kernelspec": {
   "display_name": "Python 3",
   "language": "python",
   "name": "python3"
  },
  "language_info": {
   "codemirror_mode": {
    "name": "ipython",
    "version": 3
   },
   "file_extension": ".py",
   "mimetype": "text/x-python",
   "name": "python",
   "nbconvert_exporter": "python",
   "pygments_lexer": "ipython3",
   "version": "3.9.1"
  }
 },
 "nbformat": 4,
 "nbformat_minor": 5
}
